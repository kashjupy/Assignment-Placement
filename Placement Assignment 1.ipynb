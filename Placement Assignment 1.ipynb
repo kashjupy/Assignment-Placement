{
 "cells": [
  {
   "cell_type": "code",
   "execution_count": 13,
   "id": "96314271",
   "metadata": {},
   "outputs": [
    {
     "data": {
      "text/plain": [
       "28"
      ]
     },
     "execution_count": 13,
     "metadata": {},
     "output_type": "execute_result"
    }
   ],
   "source": [
    "f=open(\"example2.txt\",\"r+\")\n",
    "f.write(\"This is placement Asiignment\")"
   ]
  },
  {
   "cell_type": "code",
   "execution_count": 14,
   "id": "19757b0e",
   "metadata": {},
   "outputs": [
    {
     "name": "stdout",
     "output_type": "stream",
     "text": [
      "Enter text to be replaced:placement\n",
      "Enter replacement textscreening\n",
      "This is screening AsiignmentThis is screening Asiignment"
     ]
    },
    {
     "data": {
      "text/plain": [
       "56"
      ]
     },
     "execution_count": 14,
     "metadata": {},
     "output_type": "execute_result"
    }
   ],
   "source": [
    "import sys\n",
    "import fileinput\n",
    "\n",
    "x = input(\"Enter text to be replaced:\")\n",
    "y = input(\"Enter replacement text\")\n",
    "\n",
    "for l in fileinput.input(files = \"example2.txt\"):\n",
    "\tl = l.replace(x, y)\n",
    "\tsys.stdout.write(l)\n",
    "f.write(l)\n"
   ]
  },
  {
   "cell_type": "code",
   "execution_count": 17,
   "id": "1532cff3",
   "metadata": {},
   "outputs": [],
   "source": [
    "f.close()"
   ]
  },
  {
   "cell_type": "code",
   "execution_count": null,
   "id": "900f33bd",
   "metadata": {},
   "outputs": [],
   "source": [
    "2. Demonstrate use of abstract class, multiple inheritance and decorator in\n",
    "python using examples."
   ]
  },
  {
   "cell_type": "code",
   "execution_count": null,
   "id": "d5d1a36a",
   "metadata": {},
   "outputs": [],
   "source": [
    "Class:\n",
    "    Class is nothing but the having many students\n",
    "    I mean to say that class is a holder where we can have many functions.\n",
    "Multiple inheritance:\n",
    "    Inheritance basically means ,as a human we are inheriting the properties of our parents as well as our grand parents\n",
    "    In programming we can have many class ,so in case i have to use the code so that it is alreay written.This is called code reusability\n",
    "Decorators:\n",
    "    Closures can have function inside the function\n",
    "    But in case function is the another file\n",
    "    Then we make decorators to contact that file then contact that function \n",
    "    by using the \"@xyz\"\n",
    "    \n",
    "    \n",
    "    \n"
   ]
  },
  {
   "cell_type": "code",
   "execution_count": null,
   "id": "d58440fd",
   "metadata": {},
   "outputs": [],
   "source": [
    "#####class examples and multiple inheritance######"
   ]
  },
  {
   "cell_type": "code",
   "execution_count": 20,
   "id": "07cf1a06",
   "metadata": {},
   "outputs": [],
   "source": [
    "\n",
    "    \n",
    "    l=[\"Karthik\",\"Kashyap\",\"HV\",1,2,3,4,[1,2,3,4]]"
   ]
  },
  {
   "cell_type": "code",
   "execution_count": 31,
   "id": "9921d41e",
   "metadata": {},
   "outputs": [],
   "source": [
    "class xyz():\n",
    "    def __init__(self,l):\n",
    "        self.l=l\n",
    "    def karthik(self):\n",
    "        L=[]\n",
    "        for i in self:\n",
    "            if type(i)==int:\n",
    "                print(i)\n",
    "            L.append(i)\n",
    "        return L\n",
    "    def kashyap(self):\n",
    "        for i in l:\n",
    "            if type(i)==int:\n",
    "                X=i^2\n",
    "                return X\n",
    "        "
   ]
  },
  {
   "cell_type": "code",
   "execution_count": 32,
   "id": "7522bd64",
   "metadata": {},
   "outputs": [],
   "source": [
    "class xyz1(xyz):\n",
    "    def my():\n",
    "        print(\"I am enjoying programming a little bit\")"
   ]
  },
  {
   "cell_type": "code",
   "execution_count": 33,
   "id": "b3e090b8",
   "metadata": {},
   "outputs": [
    {
     "name": "stdout",
     "output_type": "stream",
     "text": [
      "1\n",
      "2\n",
      "3\n",
      "4\n"
     ]
    },
    {
     "data": {
      "text/plain": [
       "['Karthik', 'Kashyap', 'HV', 1, 2, 3, 4, [1, 2, 3, 4]]"
      ]
     },
     "execution_count": 33,
     "metadata": {},
     "output_type": "execute_result"
    }
   ],
   "source": [
    "xyz.karthik(l)"
   ]
  },
  {
   "cell_type": "code",
   "execution_count": 34,
   "id": "d90fafc2",
   "metadata": {},
   "outputs": [
    {
     "data": {
      "text/plain": [
       "3"
      ]
     },
     "execution_count": 34,
     "metadata": {},
     "output_type": "execute_result"
    }
   ],
   "source": [
    "xyz1.kashyap(l)"
   ]
  },
  {
   "cell_type": "code",
   "execution_count": 35,
   "id": "da40da72",
   "metadata": {},
   "outputs": [
    {
     "name": "stdout",
     "output_type": "stream",
     "text": [
      "I am enjoying programming a little bit\n"
     ]
    }
   ],
   "source": [
    "xyz1.my()"
   ]
  },
  {
   "cell_type": "code",
   "execution_count": null,
   "id": "e531122c",
   "metadata": {},
   "outputs": [],
   "source": [
    "#######Decorator#####"
   ]
  },
  {
   "cell_type": "code",
   "execution_count": 49,
   "id": "ab0d0dea",
   "metadata": {},
   "outputs": [],
   "source": [
    "def kart(kash):\n",
    "    \n",
    "    def kashy():\n",
    "        print(\"I am very intrested in ML algorithms reasarch field\")\n",
    "        kash()\n",
    "        print(\"I have also some knowledge in Spark,Mysql,MongoDB,Hbase,Informatica ,Talend\")\n",
    "        print(\"I love panipuri\")\n",
    "        "
   ]
  },
  {
   "cell_type": "code",
   "execution_count": 48,
   "id": "d8726cf0",
   "metadata": {},
   "outputs": [],
   "source": [
    "@kart\n",
    "\n",
    "def deep_learning():\n",
    "    print(\"THis is my name'Karthik Kashyap HV' everyone loves\")"
   ]
  },
  {
   "cell_type": "code",
   "execution_count": 51,
   "id": "e89ffe67",
   "metadata": {},
   "outputs": [],
   "source": [
    "kart(deep_learning)"
   ]
  },
  {
   "cell_type": "code",
   "execution_count": null,
   "id": "e7e35b6d",
   "metadata": {},
   "outputs": [],
   "source": []
  },
  {
   "cell_type": "code",
   "execution_count": null,
   "id": "cd4adb03",
   "metadata": {},
   "outputs": [],
   "source": []
  },
  {
   "cell_type": "code",
   "execution_count": null,
   "id": "1f793de7",
   "metadata": {},
   "outputs": [],
   "source": []
  },
  {
   "cell_type": "code",
   "execution_count": null,
   "id": "5a6d03ae",
   "metadata": {},
   "outputs": [],
   "source": []
  },
  {
   "cell_type": "code",
   "execution_count": null,
   "id": "d0b4a83e",
   "metadata": {},
   "outputs": [],
   "source": []
  }
 ],
 "metadata": {
  "kernelspec": {
   "display_name": "Python 3 (ipykernel)",
   "language": "python",
   "name": "python3"
  },
  "language_info": {
   "codemirror_mode": {
    "name": "ipython",
    "version": 3
   },
   "file_extension": ".py",
   "mimetype": "text/x-python",
   "name": "python",
   "nbconvert_exporter": "python",
   "pygments_lexer": "ipython3",
   "version": "3.9.7"
  }
 },
 "nbformat": 4,
 "nbformat_minor": 5
}
